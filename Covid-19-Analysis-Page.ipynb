{
 "cells": [
  {
   "cell_type": "code",
   "execution_count": 2,
   "metadata": {},
   "outputs": [],
   "source": [
    "# nbi:hide_in\n",
    "import os,sys\n",
    "import re\n",
    "import numpy as np\n",
    "import pandas as pd\n",
    "#import matplotlib.pyplot as plt\n",
    "from os import listdir\n",
    "from os.path import isfile, join\n",
    "from glob import glob"
   ]
  },
  {
   "cell_type": "code",
   "execution_count": 29,
   "metadata": {},
   "outputs": [
    {
     "name": "stdout",
     "output_type": "stream",
     "text": [
      "This is a COVID-19 analysis page.\n"
     ]
    }
   ],
   "source": [
    "# nbi:hide_in\n",
    "cvdf = pd.read_csv(\"csse_covid_19_data/csse_covid_19_time_series/time_series_19-covid-Confirmed.csv\")\n",
    "#cvdf.head()\n",
    "print(\"This is a COVID-19 analysis page.\")"
   ]
  },
  {
   "cell_type": "code",
   "execution_count": 30,
   "metadata": {},
   "outputs": [],
   "source": [
    "# nbi:hide_in\n",
    "monthdict={1:0,2:31,3:60}\n",
    "for i,li in enumerate(cvdf.columns):\n",
    "    if i>=4:\n",
    "        tmp=li.split(\"/\")\n",
    "        day=monthdict[int(tmp[0])]+int(tmp[1])\n",
    "        day=day-22 \n",
    "        cvdf=cvdf.rename(columns={li: day}, errors=\"raise\")\n",
    "cvdf=cvdf.sort_values(by=['Country/Region'])\n",
    "cvdf=cvdf.reset_index(drop=True)\n",
    "cvdf.drop(\"Lat\", axis=1, inplace=True)\n",
    "cvdf.drop(\"Long\", axis=1, inplace=True)\n",
    "cvdf.to_csv(\"covidtimeall.csv\",index=False)"
   ]
  },
  {
   "cell_type": "code",
   "execution_count": 31,
   "metadata": {},
   "outputs": [],
   "source": [
    "# nbi:hide_in\n",
    "df = pd.read_csv(\"covidtimeall.csv\")\n",
    "df.head()\n",
    "workaslist=list(df.iloc)\n",
    "#plt.ylim(0,500)\n",
    "countryid={}\n",
    "for i,wl in enumerate(workaslist):\n",
    "    y = list(wl[2:])\n",
    "    leg = wl[\"Country/Region\"]\n",
    "    if not countryid.keys():\n",
    "        countryid[leg]=y\n",
    "    elif countryid.keys() and leg not in countryid.keys():    \n",
    "        countryid[leg]=y\n",
    "    elif countryid.keys() and leg in countryid.keys(): \n",
    "        tmp = zip(countryid[leg],y)\n",
    "        utmp = [sum(item) for item in tmp]\n",
    "        countryid[leg]=utmp"
   ]
  },
  {
   "cell_type": "code",
   "execution_count": 32,
   "metadata": {},
   "outputs": [
    {
     "name": "stdout",
     "output_type": "stream",
     "text": [
      "Number of countries not yet affected by Coronavirus:  20\n",
      "Madagascar Syria Cape Verde Djibouti Gambia, The Haiti Holy See Uganda Chad Dominica Antigua and Barbuda Saint Vincent and the Grenadines East Timor Timor-Leste Eritrea Mozambique Kosovo Papua New Guinea Grenada Somalia\n",
      "Number of countries affected by Coronavirus:  151\n",
      "Afghanistan Albania Algeria Andorra Angola Argentina Armenia Australia Austria Azerbaijan Bahamas, The Bahrain Bangladesh Barbados Belarus Belgium Benin Bhutan Bolivia Bosnia and Herzegovina Brazil Brunei Bulgaria Burkina Faso Cabo Verde Cambodia Cameroon Canada Central African Republic Chile China Colombia Congo (Brazzaville) Congo (Kinshasa) Costa Rica Cote d'Ivoire Croatia Cruise Ship Cuba Cyprus Czechia Denmark Dominican Republic Ecuador Egypt El Salvador Equatorial Guinea Estonia Eswatini Ethiopia Fiji Finland France Gabon Georgia Germany Ghana Greece Guatemala Guinea Guyana Honduras Hungary Iceland India Indonesia Iran Iraq Ireland Israel Italy Jamaica Japan Jordan Kazakhstan Kenya Korea, South Kuwait Kyrgyzstan Latvia Lebanon Liberia Liechtenstein Lithuania Luxembourg Malaysia Maldives Malta Martinique Mauritania Mauritius Mexico Moldova Monaco Mongolia Montenegro Morocco Namibia Nepal Netherlands New Zealand Nicaragua Niger Nigeria North Macedonia Norway Oman Pakistan Panama Paraguay Peru Philippines Poland Portugal Qatar Romania Russia Rwanda Saint Lucia San Marino Saudi Arabia Senegal Serbia Seychelles Singapore Slovakia Slovenia South Africa Spain Sri Lanka Sudan Suriname Sweden Switzerland Taiwan* Tanzania Thailand Togo Trinidad and Tobago Tunisia Turkey US Ukraine United Arab Emirates United Kingdom Uruguay Uzbekistan Venezuela Vietnam Zambia Zimbabwe\n"
     ]
    }
   ],
   "source": [
    "# nbi:hide_in\n",
    "import math\n",
    "covaff={}\n",
    "for key,value in countryid.items():\n",
    "    ry=[]\n",
    "    for j in range(len(value)):\n",
    "        if value[j]!=0:\n",
    "            ry.append(value[j])\n",
    "    amin, amax = min(ry), max(ry)\n",
    "    if amax!=amin: \n",
    "        covaff[key] = ry\n",
    "notafftd =(list(set(countryid.keys()) - set(covaff.keys())))\n",
    "print (\"Number of countries not yet affected by Coronavirus: \",len(notafftd))\n",
    "print (*notafftd)\n",
    "print (\"Number of countries affected by Coronavirus: \",len(covaff.keys()))\n",
    "print (*covaff.keys())"
   ]
  },
  {
   "cell_type": "code",
   "execution_count": 33,
   "metadata": {},
   "outputs": [
    {
     "name": "stderr",
     "output_type": "stream",
     "text": [
      "<ipython-input-33-d22374fc69c5>:26: RuntimeWarning: invalid value encountered in long_scalars\n",
      "  gf.append(dvalue[j]/dvalue[j-1])\n",
      "<ipython-input-33-d22374fc69c5>:26: RuntimeWarning: divide by zero encountered in long_scalars\n",
      "  gf.append(dvalue[j]/dvalue[j-1])\n"
     ]
    }
   ],
   "source": [
    "# nbi:hide_in\n",
    "# nbi:hide_out\n",
    "import json\n",
    "import numpy as np\n",
    "ncvdf=pd.DataFrame()\n",
    "\n",
    "\n",
    "jdict={}\n",
    "#jdict['Country']=[]\n",
    "day=[]\n",
    "for key,value in covaff.items():\n",
    "    days=[];dvalue=[];dvalue2=[];ep=[];gf=[];log_ry=[];nlog_ry=[]\n",
    "    for j in range(len(value)):\n",
    "        log_ry.append(math.log10(value[j]))\n",
    "    #plt.plot(log_ry,label=key)\n",
    "    ##amin, amax = min(log_ry), max(log_ry) \n",
    "    ##print (amin,amax)\n",
    "    ##for j, val in enumerate(log_ry):\n",
    "    ##    nlog_ry.append((val-amin) / (amax-amin))\n",
    "    for j in range(len(value)):\n",
    "        if j>0:\n",
    "            dvalue.append(((value[j]-value[j-1])))\n",
    "    ndvalue = [float(i)/max(dvalue) for i in dvalue]  \n",
    "    for j in range(len(dvalue)):\n",
    "        if j >0:\n",
    "            gf.append(dvalue[j]/dvalue[j-1])\n",
    "            \n",
    "    for j in range(len(value)):\n",
    "        if j>0: ep.append(round((value[j]/value[j-1]),3))\n",
    "    dvalue.insert(0,0)\n",
    "    ndvalue.insert(0,0)\n",
    "    ep.insert(0,0)\n",
    "    gf.insert(0,0)\n",
    "    gf.insert(0,0)\n",
    "    jdict[key] = {\"Cases\":value,\"Rate\":dvalue,\"NormRate\":ndvalue,\"Ep\":ep,\"GrowthFactor\":gf}\n"
   ]
  },
  {
   "cell_type": "code",
   "execution_count": 34,
   "metadata": {},
   "outputs": [],
   "source": [
    "# nbi:hide_in\n",
    "from ipywidgets import widgets\n",
    "from ipywidgets import IntSlider as islide\n",
    "from ipywidgets import FloatSlider,HBox,VBox\n",
    "from IPython.display import display\n",
    "import matplotlib.pyplot as plt\n",
    "%matplotlib nbagg\n",
    "\n",
    "def makeinteractive(Yaxis,Country):      \n",
    "    impcnt=list(map(lambda x: x.strip(), Country.split(\",\"))) \n",
    "    yax = list(jdict.keys())\n",
    "    plt.style.use('ggplot')\n",
    "    fig = plt.figure()\n",
    "    ax = plt.subplot(111)\n",
    "\n",
    "    ax.set_ylabel(Yaxis)\n",
    "    ax.set_xlabel(\"Number of Days since the begining of COVID Horror\")\n",
    "                    \n",
    "    for key,value in jdict.items():\n",
    "        if key in impcnt:\n",
    "            ax.plot(value[Yaxis],'-o',label=key)\n",
    "            \n",
    "    ax.legend(loc='center left', bbox_to_anchor=(0.95, 0.5),) "
   ]
  },
  {
   "cell_type": "code",
   "execution_count": 35,
   "metadata": {},
   "outputs": [
    {
     "data": {
      "application/vnd.jupyter.widget-view+json": {
       "model_id": "e3b49189bdfe451ab00fcfca27094bc7",
       "version_major": 2,
       "version_minor": 0
      },
      "text/plain": [
       "interactive(children=(Dropdown(description='Yaxis', options=('Cases', 'Rate', 'NormRate', 'Ep', 'GrowthFactor'…"
      ]
     },
     "metadata": {},
     "output_type": "display_data"
    },
    {
     "data": {
      "text/plain": [
       "<function __main__.makeinteractive(Yaxis, Country)>"
      ]
     },
     "execution_count": 35,
     "metadata": {},
     "output_type": "execute_result"
    }
   ],
   "source": [
    "# nbi:hide_in\n",
    "widgets.interact_manual(makeinteractive,Yaxis=[\"Cases\",\"Rate\",\"NormRate\",\"Ep\",\"GrowthFactor\"],Country=\"India,Italy,Australia,China,Iran,Pakistan,US,Spain,Germany,France,United Kingdom\")"
   ]
  },
  {
   "cell_type": "code",
   "execution_count": 36,
   "metadata": {},
   "outputs": [
    {
     "name": "stdout",
     "output_type": "stream",
     "text": [
      "List of Countries\n"
     ]
    },
    {
     "data": {
      "application/vnd.jupyter.widget-view+json": {
       "model_id": "f4db2a4e56564bbdb9897cd791f552ec",
       "version_major": 2,
       "version_minor": 0
      },
      "text/plain": [
       "HBox(children=(VBox(children=(Button(description='Afghanistan', style=ButtonStyle()), Button(description='Alba…"
      ]
     },
     "metadata": {},
     "output_type": "display_data"
    }
   ],
   "source": [
    "# nbi:hide_in\n",
    "from ipywidgets import Button\n",
    "words = list(jdict.keys())\n",
    "items = [Button(description=w) for w in words]\n",
    "bins = int(len(words)/5)\n",
    "box1 = VBox(items[:bins])\n",
    "box2 = VBox(items[bins:2*bins])\n",
    "box3 = VBox(items[2*bins:3*bins])\n",
    "box4 = VBox(items[3*bins:4*bins])\n",
    "box5 = VBox(items[4*bins:5*bins])\n",
    "print (\"List of Countries\")\n",
    "HBox([box1,box2,box3,box4,box5])"
   ]
  },
  {
   "cell_type": "code",
   "execution_count": null,
   "metadata": {},
   "outputs": [],
   "source": []
  }
 ],
 "metadata": {
  "kernelspec": {
   "display_name": "Python 3",
   "language": "python",
   "name": "python3"
  },
  "language_info": {
   "codemirror_mode": {
    "name": "ipython",
    "version": 3
   },
   "file_extension": ".py",
   "mimetype": "text/x-python",
   "name": "python",
   "nbconvert_exporter": "python",
   "pygments_lexer": "ipython3",
   "version": "3.8.1"
  }
 },
 "nbformat": 4,
 "nbformat_minor": 4
}
