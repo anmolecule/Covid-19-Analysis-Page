{
 "cells": [
  {
   "cell_type": "code",
   "execution_count": 2,
   "metadata": {},
   "outputs": [],
   "source": [
    "import os,sys\n",
    "import re\n",
    "import numpy as np\n",
    "import pandas as pd\n",
    "#import matplotlib.pyplot as plt\n",
    "from os import listdir\n",
    "from os.path import isfile, join\n",
    "from glob import glob"
   ]
  },
  {
   "cell_type": "code",
   "execution_count": 3,
   "metadata": {},
   "outputs": [
    {
     "data": {
      "text/html": [
       "<div>\n",
       "<style scoped>\n",
       "    .dataframe tbody tr th:only-of-type {\n",
       "        vertical-align: middle;\n",
       "    }\n",
       "\n",
       "    .dataframe tbody tr th {\n",
       "        vertical-align: top;\n",
       "    }\n",
       "\n",
       "    .dataframe thead th {\n",
       "        text-align: right;\n",
       "    }\n",
       "</style>\n",
       "<table border=\"1\" class=\"dataframe\">\n",
       "  <thead>\n",
       "    <tr style=\"text-align: right;\">\n",
       "      <th></th>\n",
       "      <th>Province/State</th>\n",
       "      <th>Country/Region</th>\n",
       "      <th>Lat</th>\n",
       "      <th>Long</th>\n",
       "      <th>1/22/20</th>\n",
       "      <th>1/23/20</th>\n",
       "      <th>1/24/20</th>\n",
       "      <th>1/25/20</th>\n",
       "      <th>1/26/20</th>\n",
       "      <th>1/27/20</th>\n",
       "      <th>...</th>\n",
       "      <th>3/13/20</th>\n",
       "      <th>3/14/20</th>\n",
       "      <th>3/15/20</th>\n",
       "      <th>3/16/20</th>\n",
       "      <th>3/17/20</th>\n",
       "      <th>3/18/20</th>\n",
       "      <th>3/19/20</th>\n",
       "      <th>3/20/20</th>\n",
       "      <th>3/21/20</th>\n",
       "      <th>3/22/20</th>\n",
       "    </tr>\n",
       "  </thead>\n",
       "  <tbody>\n",
       "    <tr>\n",
       "      <th>0</th>\n",
       "      <td>NaN</td>\n",
       "      <td>Thailand</td>\n",
       "      <td>15.0000</td>\n",
       "      <td>101.0000</td>\n",
       "      <td>2</td>\n",
       "      <td>3</td>\n",
       "      <td>5</td>\n",
       "      <td>7</td>\n",
       "      <td>8</td>\n",
       "      <td>8</td>\n",
       "      <td>...</td>\n",
       "      <td>75</td>\n",
       "      <td>82</td>\n",
       "      <td>114</td>\n",
       "      <td>147</td>\n",
       "      <td>177</td>\n",
       "      <td>212</td>\n",
       "      <td>272</td>\n",
       "      <td>322</td>\n",
       "      <td>411</td>\n",
       "      <td>599</td>\n",
       "    </tr>\n",
       "    <tr>\n",
       "      <th>1</th>\n",
       "      <td>NaN</td>\n",
       "      <td>Japan</td>\n",
       "      <td>36.0000</td>\n",
       "      <td>138.0000</td>\n",
       "      <td>2</td>\n",
       "      <td>1</td>\n",
       "      <td>2</td>\n",
       "      <td>2</td>\n",
       "      <td>4</td>\n",
       "      <td>4</td>\n",
       "      <td>...</td>\n",
       "      <td>701</td>\n",
       "      <td>773</td>\n",
       "      <td>839</td>\n",
       "      <td>825</td>\n",
       "      <td>878</td>\n",
       "      <td>889</td>\n",
       "      <td>924</td>\n",
       "      <td>963</td>\n",
       "      <td>1007</td>\n",
       "      <td>1086</td>\n",
       "    </tr>\n",
       "    <tr>\n",
       "      <th>2</th>\n",
       "      <td>NaN</td>\n",
       "      <td>Singapore</td>\n",
       "      <td>1.2833</td>\n",
       "      <td>103.8333</td>\n",
       "      <td>0</td>\n",
       "      <td>1</td>\n",
       "      <td>3</td>\n",
       "      <td>3</td>\n",
       "      <td>4</td>\n",
       "      <td>5</td>\n",
       "      <td>...</td>\n",
       "      <td>200</td>\n",
       "      <td>212</td>\n",
       "      <td>226</td>\n",
       "      <td>243</td>\n",
       "      <td>266</td>\n",
       "      <td>313</td>\n",
       "      <td>345</td>\n",
       "      <td>385</td>\n",
       "      <td>432</td>\n",
       "      <td>455</td>\n",
       "    </tr>\n",
       "    <tr>\n",
       "      <th>3</th>\n",
       "      <td>NaN</td>\n",
       "      <td>Nepal</td>\n",
       "      <td>28.1667</td>\n",
       "      <td>84.2500</td>\n",
       "      <td>0</td>\n",
       "      <td>0</td>\n",
       "      <td>0</td>\n",
       "      <td>1</td>\n",
       "      <td>1</td>\n",
       "      <td>1</td>\n",
       "      <td>...</td>\n",
       "      <td>1</td>\n",
       "      <td>1</td>\n",
       "      <td>1</td>\n",
       "      <td>1</td>\n",
       "      <td>1</td>\n",
       "      <td>1</td>\n",
       "      <td>1</td>\n",
       "      <td>1</td>\n",
       "      <td>1</td>\n",
       "      <td>2</td>\n",
       "    </tr>\n",
       "    <tr>\n",
       "      <th>4</th>\n",
       "      <td>NaN</td>\n",
       "      <td>Malaysia</td>\n",
       "      <td>2.5000</td>\n",
       "      <td>112.5000</td>\n",
       "      <td>0</td>\n",
       "      <td>0</td>\n",
       "      <td>0</td>\n",
       "      <td>3</td>\n",
       "      <td>4</td>\n",
       "      <td>4</td>\n",
       "      <td>...</td>\n",
       "      <td>197</td>\n",
       "      <td>238</td>\n",
       "      <td>428</td>\n",
       "      <td>566</td>\n",
       "      <td>673</td>\n",
       "      <td>790</td>\n",
       "      <td>900</td>\n",
       "      <td>1030</td>\n",
       "      <td>1183</td>\n",
       "      <td>1306</td>\n",
       "    </tr>\n",
       "  </tbody>\n",
       "</table>\n",
       "<p>5 rows × 65 columns</p>\n",
       "</div>"
      ],
      "text/plain": [
       "  Province/State Country/Region      Lat      Long  1/22/20  1/23/20  1/24/20  \\\n",
       "0            NaN       Thailand  15.0000  101.0000        2        3        5   \n",
       "1            NaN          Japan  36.0000  138.0000        2        1        2   \n",
       "2            NaN      Singapore   1.2833  103.8333        0        1        3   \n",
       "3            NaN          Nepal  28.1667   84.2500        0        0        0   \n",
       "4            NaN       Malaysia   2.5000  112.5000        0        0        0   \n",
       "\n",
       "   1/25/20  1/26/20  1/27/20  ...  3/13/20  3/14/20  3/15/20  3/16/20  \\\n",
       "0        7        8        8  ...       75       82      114      147   \n",
       "1        2        4        4  ...      701      773      839      825   \n",
       "2        3        4        5  ...      200      212      226      243   \n",
       "3        1        1        1  ...        1        1        1        1   \n",
       "4        3        4        4  ...      197      238      428      566   \n",
       "\n",
       "   3/17/20  3/18/20  3/19/20  3/20/20  3/21/20  3/22/20  \n",
       "0      177      212      272      322      411      599  \n",
       "1      878      889      924      963     1007     1086  \n",
       "2      266      313      345      385      432      455  \n",
       "3        1        1        1        1        1        2  \n",
       "4      673      790      900     1030     1183     1306  \n",
       "\n",
       "[5 rows x 65 columns]"
      ]
     },
     "execution_count": 3,
     "metadata": {},
     "output_type": "execute_result"
    }
   ],
   "source": [
    "cvdf = pd.read_csv(\"csse_covid_19_data/csse_covid_19_time_series/time_series_19-covid-Confirmed.csv\")\n",
    "cvdf.head()"
   ]
  },
  {
   "cell_type": "code",
   "execution_count": 4,
   "metadata": {},
   "outputs": [],
   "source": [
    "monthdict={1:0,2:31,3:60}\n",
    "for i,li in enumerate(cvdf.columns):\n",
    "    if i>=4:\n",
    "        tmp=li.split(\"/\")\n",
    "        day=monthdict[int(tmp[0])]+int(tmp[1])\n",
    "        day=day-22 \n",
    "        cvdf=cvdf.rename(columns={li: day}, errors=\"raise\")\n",
    "cvdf=cvdf.sort_values(by=['Country/Region'])\n",
    "cvdf=cvdf.reset_index(drop=True)\n",
    "cvdf.drop(\"Lat\", axis=1, inplace=True)\n",
    "cvdf.drop(\"Long\", axis=1, inplace=True)\n",
    "cvdf.to_csv(\"covidtimeall.csv\",index=False)"
   ]
  },
  {
   "cell_type": "code",
   "execution_count": 5,
   "metadata": {},
   "outputs": [],
   "source": [
    "df = pd.read_csv(\"covidtimeall.csv\")\n",
    "df.head()\n",
    "workaslist=list(df.iloc)\n",
    "#plt.ylim(0,500)\n",
    "countryid={}\n",
    "for i,wl in enumerate(workaslist):\n",
    "    y = list(wl[2:])\n",
    "    leg = wl[\"Country/Region\"]\n",
    "    if not countryid.keys():\n",
    "        countryid[leg]=y\n",
    "    elif countryid.keys() and leg not in countryid.keys():    \n",
    "        countryid[leg]=y\n",
    "    elif countryid.keys() and leg in countryid.keys(): \n",
    "        tmp = zip(countryid[leg],y)\n",
    "        utmp = [sum(item) for item in tmp]\n",
    "        countryid[leg]=utmp"
   ]
  },
  {
   "cell_type": "code",
   "execution_count": 6,
   "metadata": {},
   "outputs": [
    {
     "name": "stdout",
     "output_type": "stream",
     "text": [
      "Number of countries not yet affected by Coronavirus:  20\n",
      "Madagascar Syria Cape Verde Djibouti Gambia, The Haiti Holy See Uganda Chad Dominica Antigua and Barbuda Saint Vincent and the Grenadines East Timor Timor-Leste Eritrea Mozambique Kosovo Papua New Guinea Grenada Somalia\n",
      "Number of countries affected by Coronavirus:  151\n",
      "Afghanistan Albania Algeria Andorra Angola Argentina Armenia Australia Austria Azerbaijan Bahamas, The Bahrain Bangladesh Barbados Belarus Belgium Benin Bhutan Bolivia Bosnia and Herzegovina Brazil Brunei Bulgaria Burkina Faso Cabo Verde Cambodia Cameroon Canada Central African Republic Chile China Colombia Congo (Brazzaville) Congo (Kinshasa) Costa Rica Cote d'Ivoire Croatia Cruise Ship Cuba Cyprus Czechia Denmark Dominican Republic Ecuador Egypt El Salvador Equatorial Guinea Estonia Eswatini Ethiopia Fiji Finland France Gabon Georgia Germany Ghana Greece Guatemala Guinea Guyana Honduras Hungary Iceland India Indonesia Iran Iraq Ireland Israel Italy Jamaica Japan Jordan Kazakhstan Kenya Korea, South Kuwait Kyrgyzstan Latvia Lebanon Liberia Liechtenstein Lithuania Luxembourg Malaysia Maldives Malta Martinique Mauritania Mauritius Mexico Moldova Monaco Mongolia Montenegro Morocco Namibia Nepal Netherlands New Zealand Nicaragua Niger Nigeria North Macedonia Norway Oman Pakistan Panama Paraguay Peru Philippines Poland Portugal Qatar Romania Russia Rwanda Saint Lucia San Marino Saudi Arabia Senegal Serbia Seychelles Singapore Slovakia Slovenia South Africa Spain Sri Lanka Sudan Suriname Sweden Switzerland Taiwan* Tanzania Thailand Togo Trinidad and Tobago Tunisia Turkey US Ukraine United Arab Emirates United Kingdom Uruguay Uzbekistan Venezuela Vietnam Zambia Zimbabwe\n"
     ]
    }
   ],
   "source": [
    "import math\n",
    "covaff={}\n",
    "for key,value in countryid.items():\n",
    "    ry=[]\n",
    "    for j in range(len(value)):\n",
    "        if value[j]!=0:\n",
    "            ry.append(value[j])\n",
    "    amin, amax = min(ry), max(ry)\n",
    "    if amax!=amin: \n",
    "        covaff[key] = ry\n",
    "notafftd =(list(set(countryid.keys()) - set(covaff.keys())))\n",
    "print (\"Number of countries not yet affected by Coronavirus: \",len(notafftd))\n",
    "print (*notafftd)\n",
    "print (\"Number of countries affected by Coronavirus: \",len(covaff.keys()))\n",
    "print (*covaff.keys())"
   ]
  },
  {
   "cell_type": "code",
   "execution_count": 7,
   "metadata": {},
   "outputs": [
    {
     "name": "stderr",
     "output_type": "stream",
     "text": [
      "<ipython-input-7-4c5ff4fa5f65>:24: RuntimeWarning: invalid value encountered in long_scalars\n",
      "  gf.append(dvalue[j]/dvalue[j-1])\n",
      "<ipython-input-7-4c5ff4fa5f65>:24: RuntimeWarning: divide by zero encountered in long_scalars\n",
      "  gf.append(dvalue[j]/dvalue[j-1])\n"
     ]
    }
   ],
   "source": [
    "import json\n",
    "import numpy as np\n",
    "ncvdf=pd.DataFrame()\n",
    "\n",
    "\n",
    "jdict={}\n",
    "#jdict['Country']=[]\n",
    "day=[]\n",
    "for key,value in covaff.items():\n",
    "    days=[];dvalue=[];dvalue2=[];ep=[];gf=[];log_ry=[];nlog_ry=[]\n",
    "    for j in range(len(value)):\n",
    "        log_ry.append(math.log10(value[j]))\n",
    "    #plt.plot(log_ry,label=key)\n",
    "    ##amin, amax = min(log_ry), max(log_ry) \n",
    "    ##print (amin,amax)\n",
    "    ##for j, val in enumerate(log_ry):\n",
    "    ##    nlog_ry.append((val-amin) / (amax-amin))\n",
    "    for j in range(len(value)):\n",
    "        if j>0:\n",
    "            dvalue.append(((value[j]-value[j-1])))\n",
    "    ndvalue = [float(i)/max(dvalue) for i in dvalue]  \n",
    "    for j in range(len(dvalue)):\n",
    "        if j >0:\n",
    "            gf.append(dvalue[j]/dvalue[j-1])\n",
    "            \n",
    "    for j in range(len(value)):\n",
    "        if j>0: ep.append(round((value[j]/value[j-1]),3))\n",
    "    dvalue.insert(0,0)\n",
    "    ndvalue.insert(0,0)\n",
    "    ep.insert(0,0)\n",
    "    gf.insert(0,0)\n",
    "    gf.insert(0,0)\n",
    "    jdict[key] = {\"Cases\":value,\"Rate\":dvalue,\"NormRate\":ndvalue,\"Ep\":ep,\"GrowthFactor\":gf}\n"
   ]
  },
  {
   "cell_type": "code",
   "execution_count": 8,
   "metadata": {},
   "outputs": [],
   "source": [
    "from ipywidgets import widgets\n",
    "from ipywidgets import IntSlider as islide\n",
    "from ipywidgets import FloatSlider,HBox,VBox\n",
    "from IPython.display import display\n",
    "import matplotlib.pyplot as plt\n",
    "%matplotlib nbagg\n",
    "\n",
    "def makeinteractive(Yaxis,Country):      \n",
    "    impcnt=Country.split(\",\") \n",
    "    yax = list(jdict.keys())\n",
    "    plt.style.use('ggplot')\n",
    "    fig = plt.figure()\n",
    "    ax = plt.subplot(111)\n",
    "\n",
    "    ax.set_ylabel(Yaxis)\n",
    "    ax.set_xlabel(\"Number of Days since the begining of COVID Horror\")\n",
    "                    \n",
    "    for key,value in jdict.items():\n",
    "        if key in impcnt:\n",
    "            ax.plot(value[Yaxis],'-o',label=key)\n",
    "            \n",
    "    ax.legend(loc='center left', bbox_to_anchor=(0.95, 0.5),) "
   ]
  },
  {
   "cell_type": "code",
   "execution_count": 9,
   "metadata": {},
   "outputs": [
    {
     "data": {
      "application/vnd.jupyter.widget-view+json": {
       "model_id": "7af149e9d078458aac1963db54b9213f",
       "version_major": 2,
       "version_minor": 0
      },
      "text/plain": [
       "interactive(children=(Dropdown(description='Yaxis', options=('Cases', 'Rate', 'NormRate', 'Ep', 'GrowthFactor'…"
      ]
     },
     "metadata": {},
     "output_type": "display_data"
    },
    {
     "data": {
      "text/plain": [
       "<function __main__.makeinteractive(Yaxis, Country)>"
      ]
     },
     "execution_count": 9,
     "metadata": {},
     "output_type": "execute_result"
    }
   ],
   "source": [
    "widgets.interact_manual(makeinteractive,Yaxis=[\"Cases\",\"Rate\",\"NormRate\",\"Ep\",\"GrowthFactor\"],Country=\"India,Italy,Australia,China,Iran,Pakistan,US,Spain,Germany,France,United Kingdom\")"
   ]
  },
  {
   "cell_type": "code",
   "execution_count": 240,
   "metadata": {},
   "outputs": [
    {
     "data": {
      "application/vnd.jupyter.widget-view+json": {
       "model_id": "5b046d4389124e26ae97aec8433fcaa1",
       "version_major": 2,
       "version_minor": 0
      },
      "text/plain": [
       "VBox(children=(Figure(axes=[Axis(scale=LinearScale()), Axis(orientation='vertical', scale=LinearScale())], fig…"
      ]
     },
     "metadata": {},
     "output_type": "display_data"
    }
   ],
   "source": [
    "#plt.xlabel('Number of days')\n",
    "#plt.ylabel('Logarithmic scale of Confirmed Cases')\n",
    "#plt.title('My COVID-19 Analysis')\n",
    "plt_fig=plt.figure(title=\"Try\")\n",
    "for key,value in jdict.items():\n",
    "    if key in [\"India\",\"Italy\",\"Australia\",\"China\",\"Iran\",\"Pakistan\",\"US\",\"Spain\",\"Germany\",\"France\"]:\n",
    "        plt.plot(value[\"GrowthFactor\"],label=key)\n",
    "plt.show()\n"
   ]
  },
  {
   "cell_type": "code",
   "execution_count": 213,
   "metadata": {},
   "outputs": [
    {
     "data": {
      "application/vnd.jupyter.widget-view+json": {
       "model_id": "d8f7e97548a142238868218045d668fb",
       "version_major": 2,
       "version_minor": 0
      },
      "text/plain": [
       "IntSlider(value=60)"
      ]
     },
     "metadata": {},
     "output_type": "display_data"
    }
   ],
   "source": [
    "\n"
   ]
  },
  {
   "cell_type": "code",
   "execution_count": null,
   "metadata": {},
   "outputs": [],
   "source": []
  }
 ],
 "metadata": {
  "kernelspec": {
   "display_name": "Python 3",
   "language": "python",
   "name": "python3"
  },
  "language_info": {
   "codemirror_mode": {
    "name": "ipython",
    "version": 3
   },
   "file_extension": ".py",
   "mimetype": "text/x-python",
   "name": "python",
   "nbconvert_exporter": "python",
   "pygments_lexer": "ipython3",
   "version": "3.8.1"
  }
 },
 "nbformat": 4,
 "nbformat_minor": 4
}
